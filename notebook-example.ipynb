{
 "cells": [
  {
   "cell_type": "markdown",
   "id": "aa6ef87e",
   "metadata": {},
   "source": [
    "# Notebook Example\n",
    "\n",
    "This example demonstrates how to use [qcopilot-js](https://github.com/alphara/qcopilot-js) in a Jupyter Notebook.\n",
    "\n",
    "1. Make sure you have Node.js, NPM and Jupyter Notebook installed.\n",
    "2. Open terminal and run the follwoing commands from the terminal.\n",
    "3. Install the tool from NPM: `npm i -g @vuics/qcopilot-js\n",
    "4. Setup the project as written in the [README.md](./README.md).\n",
    "5. Run the `jupyter notebook`, and create a new notebook similar to this one.\n",
    "\n",
    "Then you can use the commands above to interact with Quantum Copilot from the Jupyter Notebook."
   ]
  },
  {
   "cell_type": "code",
   "execution_count": 16,
   "id": "cc44d9d0",
   "metadata": {},
   "outputs": [
    {
     "name": "stdout",
     "output_type": "stream",
     "text": [
      "\n",
      "> qcopilot-js@1.0.0 start\n",
      "> node src/index.js help\n",
      "\n",
      "\n",
      "qc <command> [arguments]\n",
      "\n",
      "Commands:\n",
      "  ask --prompt='text'\n",
      "  run --code='code' [--device='device']\n",
      "  code-run --prompt [--device='device']\n",
      "\n",
      "Arguments:\n",
      "  -v - verbose mode\n",
      "\n",
      "Devices:\n",
      "  Quantum Simulators:\n",
      "    - 'simulator_statevector' (by default)\n",
      "    - 'ibmq_qasm_simulator'\n",
      "    - 'simulator_mps'\n",
      "  Real Quantum Hardware:\n",
      "    - 'ibm_perth'\n",
      "    - 'ibm_nairobi'\n",
      "    - 'ibm_lagos'\n",
      "    - 'ibmq_jakarta'\n",
      "    - 'ibmq_manila'\n",
      "    - 'ibmq_quito'\n",
      "    - 'ibmq_belem'\n",
      "    - 'ibmq_lima'\n",
      "\n",
      "Examples:\n",
      "  qc ask --prompt='Code a quantum cirquit on OpenQASM 2 that implements entanglement'\n",
      "  qc run --code='OPENQASM 2.0; include \"qelib1.inc\"; qreg q[2]; creg c[2]; h q[0]; cx q[0], q[1]; measure q -> c;' --device='simulator_statevector'\n",
      "  qc code-run --prompt='Write me a code example of quantum cirquit algorithm on OpenQASM 2' --device='simulator_statevector'\n",
      "\n"
     ]
    }
   ],
   "source": [
    "!qc help\n"
   ]
  },
  {
   "cell_type": "code",
   "execution_count": 7,
   "id": "e765a5ca",
   "metadata": {},
   "outputs": [
    {
     "name": "stdout",
     "output_type": "stream",
     "text": [
      "\n",
      "> qcopilot-js@1.0.0 start\n",
      "> node src/index.js ask --prompt=What is quantum?\n",
      "\n",
      "Quantum refers to the branch of physics that deals with phenomena at the smallest scales of energy, such as the behavior of particles like atoms and subatomic particles. It is a theory that describes and explains the behavior and interactions of these particles, as well as the nature of energy and matter at the quantum level. Quantum mechanics, which is the foundation of quantum theory, has produced many counterintuitive and fascinating concepts, such as superposition, entanglement, and wave-particle duality. Quantum theory has revolutionized our understanding of the fundamental workings of the universe and has applications in various fields, including computing, cryptography, and medicine.\n"
     ]
    }
   ],
   "source": [
    "!qc ask --prompt='What is quantum?'"
   ]
  },
  {
   "cell_type": "code",
   "execution_count": 6,
   "id": "5baf4673",
   "metadata": {},
   "outputs": [
    {
     "name": "stdout",
     "output_type": "stream",
     "text": [
      "\n",
      "> qcopilot-js@1.0.0 start\n",
      "> node src/index.js run --code=OPENQASM 2.0; include \"qelib1.inc\"; qreg q[2]; creg c[2]; h q[0]; cx q[0], q[1]; measure q -> c;\n",
      "\n",
      "     ┌───┐     ┌─┐   \n",
      "q_0: ┤ H ├──■──┤M├───\n",
      "     └───┘┌─┴─┐└╥┘┌─┐\n",
      "q_1: ─────┤ X ├─╫─┤M├\n",
      "          └───┘ ║ └╥┘\n",
      "c: 2/═══════════╩══╩═\n",
      "                0  1 \n",
      "{\n",
      "  \"11\": 2050,\n",
      "  \"00\": 1950\n",
      "}\n"
     ]
    }
   ],
   "source": [
    "!qc run --code='OPENQASM 2.0; include \"qelib1.inc\"; qreg q[2]; creg c[2]; h q[0]; cx q[0], q[1]; measure q -> c;'"
   ]
  },
  {
   "cell_type": "code",
   "execution_count": 10,
   "id": "201cbf25",
   "metadata": {},
   "outputs": [],
   "source": [
    "code=\"\"\"\n",
    "OPENQASM 2.0;\n",
    "\n",
    "include \"qelib1.inc\";\n",
    "\n",
    "qreg q[2];\n",
    "creg c[2];\n",
    "h q[0];\n",
    "cx q[0], q[1];\n",
    "measure q -> c;\n",
    "\"\"\""
   ]
  },
  {
   "cell_type": "code",
   "execution_count": 12,
   "id": "bbd0ac09",
   "metadata": {},
   "outputs": [
    {
     "data": {
      "text/plain": [
       "'\\nOPENQASM 2.0;\\n\\ninclude \"qelib1.inc\";\\n\\nqreg q[2];\\ncreg c[2];\\nh q[0];\\ncx q[0], q[1];\\nmeasure q -> c;\\n'"
      ]
     },
     "execution_count": 12,
     "metadata": {},
     "output_type": "execute_result"
    }
   ],
   "source": [
    "code"
   ]
  },
  {
   "cell_type": "code",
   "execution_count": 13,
   "id": "f68b0f79",
   "metadata": {},
   "outputs": [
    {
     "name": "stdout",
     "output_type": "stream",
     "text": [
      "\n",
      "> qcopilot-js@1.0.0 start\n",
      "> node src/index.js run --code=\n",
      "OPENQASM 2.0;\n",
      "\n",
      "include \"qelib1.inc\";\n",
      "\n",
      "qreg q[2];\n",
      "creg c[2];\n",
      "h q[0];\n",
      "cx q[0], q[1];\n",
      "measure q -> c;\n",
      "\n",
      "\n",
      "     ┌───┐     ┌─┐   \n",
      "q_0: ┤ H ├──■──┤M├───\n",
      "     └───┘┌─┴─┐└╥┘┌─┐\n",
      "q_1: ─────┤ X ├─╫─┤M├\n",
      "          └───┘ ║ └╥┘\n",
      "c: 2/═══════════╩══╩═\n",
      "                0  1 \n",
      "{\n",
      "  \"11\": 1967,\n",
      "  \"00\": 2033\n",
      "}\n"
     ]
    }
   ],
   "source": [
    "!qc run --code='{code}'"
   ]
  },
  {
   "cell_type": "code",
   "execution_count": null,
   "id": "661367c4",
   "metadata": {},
   "outputs": [],
   "source": []
  }
 ],
 "metadata": {
  "kernelspec": {
   "display_name": "Python 3 (ipykernel)",
   "language": "python",
   "name": "python3"
  },
  "language_info": {
   "codemirror_mode": {
    "name": "ipython",
    "version": 3
   },
   "file_extension": ".py",
   "mimetype": "text/x-python",
   "name": "python",
   "nbconvert_exporter": "python",
   "pygments_lexer": "ipython3",
   "version": "3.10.9"
  }
 },
 "nbformat": 4,
 "nbformat_minor": 5
}
