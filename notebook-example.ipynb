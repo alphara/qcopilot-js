{
 "cells": [
  {
   "cell_type": "markdown",
   "id": "aa6ef87e",
   "metadata": {},
   "source": [
    "# Jupyter Notebook Example of Using QCopilot-js\n",
    "\n",
    "## Setup\n",
    "\n",
    "This example demonstrates how to use [qcopilot-js](https://github.com/alphara/qcopilot-js) in a Jupyter Notebook.\n",
    "\n",
    "1. Make sure you have Node.js, NPM and Jupyter Notebook installed.\n",
    "2. Open terminal and run the follwoing commands from the terminal.\n",
    "3. Install the tool from NPM: `npm i -g @vuics/qcopilot-js`.\n",
    "4. Setup the project as written in the [README.md](./README.md).\n",
    "5. Run the `jupyter notebook`, and create a new notebook similar to this one.\n",
    "\n",
    "Then you can use the commands above to interact with Quantum Copilot from the Jupyter Notebook."
   ]
  },
  {
   "cell_type": "markdown",
   "id": "d78394fd",
   "metadata": {},
   "source": [
    "## Execute\n",
    "\n",
    "You can execute one of the following commands:"
   ]
  },
  {
   "cell_type": "code",
   "execution_count": 9,
   "id": "f64ef5f6",
   "metadata": {},
   "outputs": [
    {
     "name": "stdout",
     "output_type": "stream",
     "text": [
      "No command. Use: qc help\r\n"
     ]
    }
   ],
   "source": [
    "!qc"
   ]
  },
  {
   "cell_type": "markdown",
   "id": "0fd72e69",
   "metadata": {},
   "source": [
    "Or:"
   ]
  },
  {
   "cell_type": "code",
   "execution_count": 13,
   "id": "1a9e84de",
   "metadata": {},
   "outputs": [
    {
     "name": "stdout",
     "output_type": "stream",
     "text": [
      "No command. Use: qcopilot-js help\r\n"
     ]
    }
   ],
   "source": [
    "!qcopilot-js"
   ]
  },
  {
   "cell_type": "markdown",
   "id": "4fa2eb03",
   "metadata": {},
   "source": [
    "## Get Help\n",
    "\n",
    "You can get help from the command."
   ]
  },
  {
   "cell_type": "code",
   "execution_count": 8,
   "id": "8780eccb",
   "metadata": {},
   "outputs": [
    {
     "name": "stdout",
     "output_type": "stream",
     "text": [
      "\r\n",
      "qc <command> [arguments]\r\n",
      "\r\n",
      "Commands:\r\n",
      "  ask --prompt='text'\r\n",
      "  run --code='code' [--device='device']\r\n",
      "  code-run --prompt [--device='device']\r\n",
      "\r\n",
      "Arguments:\r\n",
      "  -v - verbose mode\r\n",
      "\r\n",
      "Devices:\r\n",
      "  Quantum Simulators:\r\n",
      "    - 'simulator_statevector' (by default)\r\n",
      "    - 'ibmq_qasm_simulator'\r\n",
      "    - 'simulator_mps'\r\n",
      "  Real Quantum Hardware:\r\n",
      "    - 'ibm_perth'\r\n",
      "    - 'ibm_nairobi'\r\n",
      "    - 'ibm_lagos'\r\n",
      "    - 'ibmq_jakarta'\r\n",
      "    - 'ibmq_manila'\r\n",
      "    - 'ibmq_quito'\r\n",
      "    - 'ibmq_belem'\r\n",
      "    - 'ibmq_lima'\r\n",
      "\r\n",
      "Examples:\r\n",
      "  qc ask --prompt='Code a quantum cirquit on OpenQASM 2 that implements entanglement'\r\n",
      "  qc run --code='OPENQASM 2.0; include \"qelib1.inc\"; qreg q[2]; creg c[2]; h q[0]; cx q[0], q[1]; measure q -> c;' --device='simulator_statevector'\r\n",
      "  qc code-run --prompt='Write me a code example of quantum cirquit algorithm on OpenQASM 2' --device='simulator_statevector'\r\n",
      "\r\n"
     ]
    }
   ],
   "source": [
    "!qc help"
   ]
  },
  {
   "cell_type": "markdown",
   "id": "63734153",
   "metadata": {},
   "source": [
    "## Ask Quantum Copilot\n",
    "\n",
    "You can ask any questions related to quantum computing."
   ]
  },
  {
   "cell_type": "code",
   "execution_count": 6,
   "id": "e765a5ca",
   "metadata": {},
   "outputs": [
    {
     "name": "stdout",
     "output_type": "stream",
     "text": [
      "Entanglement is a fundamental concept in quantum mechanics, the branch of physics that describes the behavior of particles on a microscopic scale. It refers to a situation where two or more particles become interconnected or \"entangled\" in such a way that their properties become correlated, even when they are physically separated.\r\n",
      "\r\n",
      "In an entangled state, the behavior of one particle is instantly related to the behavior of the other, regardless of the distance between them. This correlation holds true even if the particles are separated by vast distances, which defies classical notions of communication and causality.\r\n",
      "\r\n",
      "Entanglement is a consequence of the superposition principle in quantum mechanics, where particles can exist in multiple states simultaneously until they are measured or observed. When particles become entangled, their wavefunctions become linked, and measuring the state of one particle instantly determines the state of the other, no matter how far apart they are.\r\n",
      "\r\n",
      "Entanglement has been experimentally verified through various experiments, such as the famous Einstein-Podolsky-Rosen (EPR) paradox and Bell's inequalities. It has significant implications for quantum computing, quantum cryptography, and our understanding of the fundamental nature of reality.\r\n"
     ]
    }
   ],
   "source": [
    "!qc ask --prompt='What is entanglement?'"
   ]
  },
  {
   "cell_type": "markdown",
   "id": "25781cbb",
   "metadata": {},
   "source": [
    "## Run or Emulate Code\n",
    "\n",
    "You can emulate code on quantum simulator (by default) or even run on a real quantum hardware (just set --device='device' argument)."
   ]
  },
  {
   "cell_type": "code",
   "execution_count": 5,
   "id": "201cbf25",
   "metadata": {},
   "outputs": [
    {
     "name": "stdout",
     "output_type": "stream",
     "text": [
      "     ┌───┐     ┌─┐   \r\n",
      "q_0: ┤ H ├──■──┤M├───\r\n",
      "     └───┘┌─┴─┐└╥┘┌─┐\r\n",
      "q_1: ─────┤ X ├─╫─┤M├\r\n",
      "          └───┘ ║ └╥┘\r\n",
      "c: 2/═══════════╩══╩═\r\n",
      "                0  1 \r\n",
      "{\r\n",
      "  \"00\": 2006,\r\n",
      "  \"11\": 1994\r\n",
      "}\r\n"
     ]
    }
   ],
   "source": [
    "code=\"\"\"\n",
    "OPENQASM 2.0;\n",
    "\n",
    "include \"qelib1.inc\";\n",
    "\n",
    "qreg q[2];\n",
    "creg c[2];\n",
    "h q[0];\n",
    "cx q[0], q[1];\n",
    "measure q -> c;\n",
    "\"\"\"\n",
    "\n",
    "!qc run --code='{code}'"
   ]
  },
  {
   "cell_type": "markdown",
   "id": "3b4840c4",
   "metadata": {},
   "source": [
    "Or you can use run the code in one line. "
   ]
  },
  {
   "cell_type": "code",
   "execution_count": 6,
   "id": "5baf4673",
   "metadata": {},
   "outputs": [
    {
     "name": "stdout",
     "output_type": "stream",
     "text": [
      "\n",
      "> qcopilot-js@1.0.0 start\n",
      "> node src/index.js run --code=OPENQASM 2.0; include \"qelib1.inc\"; qreg q[2]; creg c[2]; h q[0]; cx q[0], q[1]; measure q -> c;\n",
      "\n",
      "     ┌───┐     ┌─┐   \n",
      "q_0: ┤ H ├──■──┤M├───\n",
      "     └───┘┌─┴─┐└╥┘┌─┐\n",
      "q_1: ─────┤ X ├─╫─┤M├\n",
      "          └───┘ ║ └╥┘\n",
      "c: 2/═══════════╩══╩═\n",
      "                0  1 \n",
      "{\n",
      "  \"11\": 2050,\n",
      "  \"00\": 1950\n",
      "}\n"
     ]
    }
   ],
   "source": [
    "!qc run --code='OPENQASM 2.0; include \"qelib1.inc\"; qreg q[2]; creg c[2]; h q[0]; cx q[0], q[1]; measure q -> c;'"
   ]
  },
  {
   "cell_type": "markdown",
   "id": "696c1dac",
   "metadata": {},
   "source": [
    "## Generate and Run Algorithm\n",
    "\n",
    "You can generate the code and run it using only one command."
   ]
  },
  {
   "cell_type": "code",
   "execution_count": 15,
   "id": "6bffe027",
   "metadata": {},
   "outputs": [
    {
     "name": "stdout",
     "output_type": "stream",
     "text": [
      "OPENQASM 2.0;\n",
      "include \"qelib1.inc\";\n",
      "\n",
      "qreg q[1];\n",
      "creg c[1];\n",
      "\n",
      "h q[0];\n",
      "measure q[0] -> c[0];\n",
      "\n",
      "     ┌───┐┌─┐\n",
      "  q: ┤ H ├┤M├\n",
      "     └───┘└╥┘\n",
      "c: 1/══════╩═\n",
      "           0 \n",
      "{\n",
      "  \"0\": 1981,\n",
      "  \"1\": 2019\n",
      "}\n"
     ]
    }
   ],
   "source": [
    "!qc code-run --prompt='Write code of the simplest quantum algorithm using OpenQASM 2.0' --device='simulator_statevector'"
   ]
  },
  {
   "cell_type": "code",
   "execution_count": null,
   "id": "f0ab9ec1",
   "metadata": {},
   "outputs": [],
   "source": []
  }
 ],
 "metadata": {
  "kernelspec": {
   "display_name": "Python 3 (ipykernel)",
   "language": "python",
   "name": "python3"
  },
  "language_info": {
   "codemirror_mode": {
    "name": "ipython",
    "version": 3
   },
   "file_extension": ".py",
   "mimetype": "text/x-python",
   "name": "python",
   "nbconvert_exporter": "python",
   "pygments_lexer": "ipython3",
   "version": "3.10.9"
  }
 },
 "nbformat": 4,
 "nbformat_minor": 5
}
